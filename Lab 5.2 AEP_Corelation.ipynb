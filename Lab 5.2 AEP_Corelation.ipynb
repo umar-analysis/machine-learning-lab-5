{
 "cells": [
  {
   "cell_type": "markdown",
   "id": "0191c6cf-3b07-4c5e-8634-4632c1434c7f",
   "metadata": {},
   "source": [
    "## Objective:\n",
    "To analyze the correlation between AEP (Annual/Average Energy Production) and various input features in the dataset. This helps in identifying the most significant features that influence AEP, enabling effective feature selection for modeling.\n",
    "\n",
    "## Introduction:\n",
    "Correlation analysis is a fundamental statistical tool used to understand the strength and direction of linear relationships between variables. In this lab, we aim to explore how various factors such as temperature, wind speed, pressure, and other environmental or operational variables correlate with AEP. This is especially useful in renewable energy systems such as wind farms or solar plants, where accurate modeling of AEP is essential."
   ]
  },
  {
   "cell_type": "code",
   "execution_count": 1,
   "id": "acb25233",
   "metadata": {},
   "outputs": [],
   "source": [
    "import pandas as pd\n",
    "import numpy as np\n",
    "#from dataprep.datasets import load_dataset   # Used to import / load dataset\n",
    "#from dataprep.eda import create_report   # Used to load Report formate"
   ]
  },
  {
   "cell_type": "code",
   "execution_count": 2,
   "id": "129a6a50",
   "metadata": {},
   "outputs": [
    {
     "data": {
      "text/html": [
       "<div>\n",
       "<style scoped>\n",
       "    .dataframe tbody tr th:only-of-type {\n",
       "        vertical-align: middle;\n",
       "    }\n",
       "\n",
       "    .dataframe tbody tr th {\n",
       "        vertical-align: top;\n",
       "    }\n",
       "\n",
       "    .dataframe thead th {\n",
       "        text-align: right;\n",
       "    }\n",
       "</style>\n",
       "<table border=\"1\" class=\"dataframe\">\n",
       "  <thead>\n",
       "    <tr style=\"text-align: right;\">\n",
       "      <th></th>\n",
       "      <th>aep</th>\n",
       "      <th>year_day</th>\n",
       "      <th>holiday</th>\n",
       "      <th>weekend</th>\n",
       "      <th>winter</th>\n",
       "      <th>spring</th>\n",
       "      <th>summer</th>\n",
       "      <th>fall</th>\n",
       "      <th>hour</th>\n",
       "      <th>month</th>\n",
       "      <th>day_of_week</th>\n",
       "    </tr>\n",
       "    <tr>\n",
       "      <th>Datetime</th>\n",
       "      <th></th>\n",
       "      <th></th>\n",
       "      <th></th>\n",
       "      <th></th>\n",
       "      <th></th>\n",
       "      <th></th>\n",
       "      <th></th>\n",
       "      <th></th>\n",
       "      <th></th>\n",
       "      <th></th>\n",
       "      <th></th>\n",
       "    </tr>\n",
       "  </thead>\n",
       "  <tbody>\n",
       "    <tr>\n",
       "      <th>2004-10-01 01:00:00</th>\n",
       "      <td>12379.0</td>\n",
       "      <td>275</td>\n",
       "      <td>0</td>\n",
       "      <td>0</td>\n",
       "      <td>0</td>\n",
       "      <td>0</td>\n",
       "      <td>0</td>\n",
       "      <td>1</td>\n",
       "      <td>1</td>\n",
       "      <td>10</td>\n",
       "      <td>4</td>\n",
       "    </tr>\n",
       "    <tr>\n",
       "      <th>2004-10-01 02:00:00</th>\n",
       "      <td>11935.0</td>\n",
       "      <td>275</td>\n",
       "      <td>0</td>\n",
       "      <td>0</td>\n",
       "      <td>0</td>\n",
       "      <td>0</td>\n",
       "      <td>0</td>\n",
       "      <td>1</td>\n",
       "      <td>2</td>\n",
       "      <td>10</td>\n",
       "      <td>4</td>\n",
       "    </tr>\n",
       "    <tr>\n",
       "      <th>2004-10-01 03:00:00</th>\n",
       "      <td>11692.0</td>\n",
       "      <td>275</td>\n",
       "      <td>0</td>\n",
       "      <td>0</td>\n",
       "      <td>0</td>\n",
       "      <td>0</td>\n",
       "      <td>0</td>\n",
       "      <td>1</td>\n",
       "      <td>3</td>\n",
       "      <td>10</td>\n",
       "      <td>4</td>\n",
       "    </tr>\n",
       "    <tr>\n",
       "      <th>2004-10-01 04:00:00</th>\n",
       "      <td>11597.0</td>\n",
       "      <td>275</td>\n",
       "      <td>0</td>\n",
       "      <td>0</td>\n",
       "      <td>0</td>\n",
       "      <td>0</td>\n",
       "      <td>0</td>\n",
       "      <td>1</td>\n",
       "      <td>4</td>\n",
       "      <td>10</td>\n",
       "      <td>4</td>\n",
       "    </tr>\n",
       "    <tr>\n",
       "      <th>2004-10-01 05:00:00</th>\n",
       "      <td>11681.0</td>\n",
       "      <td>275</td>\n",
       "      <td>0</td>\n",
       "      <td>0</td>\n",
       "      <td>0</td>\n",
       "      <td>0</td>\n",
       "      <td>0</td>\n",
       "      <td>1</td>\n",
       "      <td>5</td>\n",
       "      <td>10</td>\n",
       "      <td>4</td>\n",
       "    </tr>\n",
       "  </tbody>\n",
       "</table>\n",
       "</div>"
      ],
      "text/plain": [
       "                         aep  year_day  holiday  weekend  winter  spring  \\\n",
       "Datetime                                                                   \n",
       "2004-10-01 01:00:00  12379.0       275        0        0       0       0   \n",
       "2004-10-01 02:00:00  11935.0       275        0        0       0       0   \n",
       "2004-10-01 03:00:00  11692.0       275        0        0       0       0   \n",
       "2004-10-01 04:00:00  11597.0       275        0        0       0       0   \n",
       "2004-10-01 05:00:00  11681.0       275        0        0       0       0   \n",
       "\n",
       "                     summer  fall  hour  month  day_of_week  \n",
       "Datetime                                                     \n",
       "2004-10-01 01:00:00       0     1     1     10            4  \n",
       "2004-10-01 02:00:00       0     1     2     10            4  \n",
       "2004-10-01 03:00:00       0     1     3     10            4  \n",
       "2004-10-01 04:00:00       0     1     4     10            4  \n",
       "2004-10-01 05:00:00       0     1     5     10            4  "
      ]
     },
     "execution_count": 2,
     "metadata": {},
     "output_type": "execute_result"
    }
   ],
   "source": [
    "df=pd.read_csv(r'C:\\Users\\PMLS\\ML\\LAB5\\5_features_extracted.csv', index_col=['Datetime'], parse_dates=['Datetime'])\n",
    "df.head()"
   ]
  },
  {
   "cell_type": "code",
   "execution_count": 3,
   "id": "ab9bee83",
   "metadata": {},
   "outputs": [
    {
     "name": "stdout",
     "output_type": "stream",
     "text": [
      "pearson\n",
      "\n",
      " aep            1.000000\n",
      "year_day      -0.124617\n",
      "holiday       -0.053212\n",
      "weekend       -0.267287\n",
      "winter         0.328332\n",
      "spring        -0.246582\n",
      "summer         0.139793\n",
      "fall          -0.220913\n",
      "hour           0.421008\n",
      "month         -0.125896\n",
      "day_of_week   -0.220016\n",
      "dtype: float64\n"
     ]
    }
   ],
   "source": [
    "print('pearson\\n\\n',df.corrwith(df[\"aep\"],method=\"pearson\"))"
   ]
  },
  {
   "cell_type": "code",
   "execution_count": 4,
   "id": "476b35fe",
   "metadata": {},
   "outputs": [
    {
     "name": "stdout",
     "output_type": "stream",
     "text": [
      "kendall\n",
      "\n",
      " aep            1.000000\n",
      "year_day      -0.082592\n",
      "holiday       -0.041101\n",
      "weekend       -0.218066\n",
      "winter         0.278561\n",
      "spring        -0.197749\n",
      "summer         0.098140\n",
      "fall          -0.178467\n",
      "hour           0.292545\n",
      "month         -0.085584\n",
      "day_of_week   -0.158129\n",
      "dtype: float64\n"
     ]
    }
   ],
   "source": [
    "print('kendall\\n\\n',df.corrwith(df[\"aep\"],method=\"kendall\"))"
   ]
  },
  {
   "cell_type": "code",
   "execution_count": 5,
   "id": "06acb346",
   "metadata": {},
   "outputs": [
    {
     "name": "stdout",
     "output_type": "stream",
     "text": [
      "spearman\n",
      "\n",
      " aep            1.000000\n",
      "year_day      -0.123249\n",
      "holiday       -0.050335\n",
      "weekend       -0.267060\n",
      "winter         0.341147\n",
      "spring        -0.242178\n",
      "summer         0.120189\n",
      "fall          -0.218564\n",
      "hour           0.431821\n",
      "month         -0.123443\n",
      "day_of_week   -0.219619\n",
      "dtype: float64\n"
     ]
    }
   ],
   "source": [
    "print('spearman\\n\\n',df.corrwith(df[\"aep\"],method=\"spearman\"))"
   ]
  },
  {
   "cell_type": "code",
   "execution_count": 6,
   "id": "3d5d1fe5",
   "metadata": {},
   "outputs": [
    {
     "data": {
      "text/plain": [
       "aep            0\n",
       "year_day       0\n",
       "holiday        0\n",
       "weekend        0\n",
       "winter         0\n",
       "spring         0\n",
       "summer         0\n",
       "fall           0\n",
       "hour           0\n",
       "month          0\n",
       "day_of_week    0\n",
       "dtype: int64"
      ]
     },
     "execution_count": 6,
     "metadata": {},
     "output_type": "execute_result"
    }
   ],
   "source": [
    "df.isnull().sum()"
   ]
  },
  {
   "cell_type": "code",
   "execution_count": null,
   "id": "effb11e8",
   "metadata": {},
   "outputs": [],
   "source": []
  },
  {
   "cell_type": "code",
   "execution_count": null,
   "id": "53faea6f",
   "metadata": {},
   "outputs": [],
   "source": []
  }
 ],
 "metadata": {
  "kernelspec": {
   "display_name": "Python 3 (ipykernel)",
   "language": "python",
   "name": "python3"
  },
  "language_info": {
   "codemirror_mode": {
    "name": "ipython",
    "version": 3
   },
   "file_extension": ".py",
   "mimetype": "text/x-python",
   "name": "python",
   "nbconvert_exporter": "python",
   "pygments_lexer": "ipython3",
   "version": "3.10.16"
  }
 },
 "nbformat": 4,
 "nbformat_minor": 5
}
